{
 "cells": [
  {
   "cell_type": "markdown",
   "id": "5148521c",
   "metadata": {},
   "source": [
    "# Lecture 3: Speech Signal Analysis & Feature Extraction"
   ]
  },
  {
   "cell_type": "markdown",
   "id": "c735fbf7",
   "metadata": {},
   "source": []
  }
 ],
 "metadata": {
  "language_info": {
   "name": "python"
  }
 },
 "nbformat": 4,
 "nbformat_minor": 5
}
